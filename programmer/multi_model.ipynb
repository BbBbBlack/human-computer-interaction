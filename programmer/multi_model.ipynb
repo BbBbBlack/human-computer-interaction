{
 "cells": [
  {
   "cell_type": "code",
   "execution_count": 1,
   "metadata": {},
   "outputs": [
    {
     "name": "stderr",
     "output_type": "stream",
     "text": [
      "D:\\anaconda\\lib\\site-packages\\h5py\\__init__.py:36: FutureWarning: Conversion of the second argument of issubdtype from `float` to `np.floating` is deprecated. In future, it will be treated as `np.float64 == np.dtype(float).type`.\n",
      "  from ._conv import register_converters as _register_converters\n",
      "Using TensorFlow backend.\n"
     ]
    }
   ],
   "source": [
    "import tensorflow as tf\n",
    "import numpy as np\n",
    "from tensorflow import keras\n",
    "from keras import Sequential,backend,optimizers\n",
    "from keras.layers import Dense,Input, Activation, Flatten, Convolution2D, Dropout,Reshape,LSTM,concatenate,SeparableConv2D\n",
    "from keras.models import Model\n",
    "import pickle\n",
    "import pandas as pd\n",
    "import os\n",
    "import re"
   ]
  },
  {
   "cell_type": "markdown",
   "metadata": {},
   "source": [
    "list1=[]\n",
    "#list1=os.listdir('no_eog')\n",
    "print(list1)\n",
    "list2=os.listdir('yes_arousal_old')\n",
    "print(list2)"
   ]
  },
  {
   "cell_type": "markdown",
   "metadata": {},
   "source": [
    "for i in list2:\n",
    "    if(re.search(\"cnn\",i)):\n",
    "        with open(\"sample/\"+i,\"rb\") as f:\n",
    "            cnn_dataset = pickle.load(f)\n",
    "            print(cnn_dataset.shape)\n",
    "            if(i=='s01.mat_win_128_cnn_dataset.pkl'):\n",
    "                cnn_datasets=cnn_dataset\n",
    "                print(1)\n",
    "            else:\n",
    "                cnn_datasets=np.concatenate((cnn_datasets,cnn_dataset),axis=0)\n",
    "                #cnn_datasets=np.append(cnn_datasets, cnn_dataset, axis=0)\n",
    "    elif(re.search(\"rnn\",i)):\n",
    "        with open(\"sample/\"+i,\"rb\") as f:\n",
    "            rnn_dataset = pickle.load(f)\n",
    "            print(rnn_dataset.shape)\n",
    "            if(i=='s01.mat_win_128_rnn_dataset.pkl'):\n",
    "                rnn_datasets=rnn_dataset\n",
    "                print(1)\n",
    "            else:\n",
    "                rnn_datasets=np.concatenate((rnn_datasets,cnn_dataset),axis=0)\n",
    "                #rnn_datasets=np.append(rnn_datasets, rnn_dataset, axis=0)\n",
    "    elif(re.search(\"labels\",i)):\n",
    "        with open(\"sample/\"+i,\"rb\") as f:\n",
    "            label = pickle.load(f) \n",
    "            print(label.shape)\n",
    "            if(i=='s01.mat_win_128_labels.pkl'):\n",
    "                print(label.shape)\n",
    "                labels=label\n",
    "                print(1)\n",
    "            else:\n",
    "                labels=np.concatenate((labels,label),axis=0)\n",
    "                #labels=np.append(labels, label, axis=0)\n",
    "for i in list1:\n",
    "    with open('no_eog/'+i,\"rb\") as f:\n",
    "        eog=pickle.load(f)\n",
    "        eog=np.reshape(eog,(-1,128,2))\n",
    "        print(eog.shape)\n",
    "        if(i=='AFT_PREPROCESS_1_DATASET.pkl'):\n",
    "            eog_dataset=eog\n",
    "            print(1)\n",
    "        else:\n",
    "            eog_datasets=np.concatenate((eog_datasets,eog),axis=0)\n",
    "            eog_dataset=np.append(eog_dataset,eog,axis=0)"
   ]
  },
  {
   "cell_type": "code",
   "execution_count": 2,
   "metadata": {},
   "outputs": [],
   "source": [
    "L=2\n",
    "cnn_datasets=np.empty(shape=[0,128,9,9])\n",
    "rnn_datasets=np.empty(shape=[0,128,32])\n",
    "labels=np.empty(shape=[0,])\n",
    "eog_datasets=np.empty(shape=[0,128,2])\n",
    "for i in range(1,L+1):\n",
    "    with open('../preprocessed_data/s0'+str(L)+'.mat_win_128_cnn_dataset.pkl',\"rb\") as f:\n",
    "        cnn_dataset = pickle.load(f)\n",
    "    with open('../preprocessed_data/s0'+str(L)+'.mat_win_128_labels.pkl',\"rb\") as f:\n",
    "        label = pickle.load(f)   \n",
    "    with open('../preprocessed_data/s0'+str(L)+'.mat_win_128_rnn_dataset.pkl',\"rb\") as f:\n",
    "        rnn_dataset = pickle.load(f) \n",
    "    with open('../preprocessed_data/AFT_PREPROCESS_'+str(L)+'_DATASET.pkl',\"rb\") as f:\n",
    "        eog = pickle.load(f) \n",
    "        eog=np.reshape(eog,(-1,128,2))\n",
    "    cnn_datasets=np.concatenate((cnn_datasets,cnn_dataset),axis=0)\n",
    "    rnn_datasets=np.concatenate((rnn_datasets,rnn_dataset),axis=0)\n",
    "    labels=np.concatenate((labels,label),axis=0)\n",
    "    eog_datasets=np.concatenate((eog_datasets,eog),axis=0)"
   ]
  },
  {
   "cell_type": "markdown",
   "metadata": {},
   "source": [
    "with open('D:\\learn\\human-machine interaction\\yes_arousal_old/s01.mat_win_128_cnn_dataset.pkl',\"rb\") as f:\n",
    "    cnn_datasets = pickle.load(f)\n",
    "with open('D:\\learn\\human-machine interaction\\yes_arousal_old/s01.mat_win_128_labels.pkl',\"rb\") as f:\n",
    "    labels = pickle.load(f)   \n",
    "with open('D:\\learn\\human-machine interaction\\yes_arousal_old/s01.mat_win_128_rnn_dataset.pkl',\"rb\") as f:\n",
    "    rnn_datasets = pickle.load(f) "
   ]
  },
  {
   "cell_type": "code",
   "execution_count": 19,
   "metadata": {},
   "outputs": [
    {
     "name": "stdout",
     "output_type": "stream",
     "text": [
      "(4800, 128, 9, 9)\n",
      "(4800,)\n",
      "(4800, 128, 32)\n",
      "(4800, 128, 2)\n",
      "(4800, 128, 34)\n"
     ]
    }
   ],
   "source": [
    "print(cnn_datasets.shape)\n",
    "print(labels.shape)\n",
    "print(rnn_datasets.shape)\n",
    "print(eog_datasets.shape)\n",
    "lstm_datasets=rnn_datasets\n",
    "lstm_datasets=np.concatenate((rnn_datasets,eog_datasets),axis=2)\n",
    "print(lstm_datasets.shape)"
   ]
  },
  {
   "cell_type": "code",
   "execution_count": 20,
   "metadata": {},
   "outputs": [],
   "source": [
    "cnn_datasets=np.transpose(cnn_datasets, [0,2,3,1])\n",
    "#cnn_datasets = cnn_datasets.transpose(0,2,3,1)\n",
    "lstm_datasets=np.transpose(lstm_datasets, [0,2,1])"
   ]
  },
  {
   "cell_type": "code",
   "execution_count": 21,
   "metadata": {},
   "outputs": [
    {
     "name": "stdout",
     "output_type": "stream",
     "text": [
      "(4800, 9, 9, 128)\n",
      "(4800,)\n",
      "(4800, 34, 128)\n"
     ]
    }
   ],
   "source": [
    "print(cnn_datasets.shape)\n",
    "print(labels.shape)\n",
    "print(lstm_datasets.shape)"
   ]
  },
  {
   "cell_type": "markdown",
   "metadata": {},
   "source": [
    "## shuffle data"
   ]
  },
  {
   "cell_type": "code",
   "execution_count": 22,
   "metadata": {},
   "outputs": [
    {
     "name": "stdout",
     "output_type": "stream",
     "text": [
      "labels shape after shuffle: (4800,)\n",
      "cnn_datasets shape after shuffle: (4800, 9, 9, 128)\n",
      "lstm_datasets shape after shurffle:(4800, 34, 128)\n"
     ]
    }
   ],
   "source": [
    "permutation = np.random.permutation(labels.shape[0])\n",
    "#shuffled_dataset = labels[permutation, :]\n",
    "labels = labels[permutation]\n",
    "cnn_datasets = cnn_datasets[permutation]\n",
    "lstm_datasets = lstm_datasets[permutation]\n",
    "print(\"labels shape after shuffle: {0}\\ncnn_datasets shape after shuffle: {1}\\nlstm_datasets shape after shurffle:{2}\"\\\n",
    "      .format(labels.shape, cnn_datasets.shape, lstm_datasets.shape))"
   ]
  },
  {
   "cell_type": "code",
   "execution_count": 23,
   "metadata": {},
   "outputs": [],
   "source": [
    "one_hot_labels = np.array(list(pd.get_dummies(labels)))\n",
    "labels = np.asarray(pd.get_dummies(labels), dtype=np.int8)"
   ]
  },
  {
   "cell_type": "code",
   "execution_count": 24,
   "metadata": {},
   "outputs": [
    {
     "name": "stdout",
     "output_type": "stream",
     "text": [
      "<class 'int'>\n",
      "(3840, 9, 9, 128)\n",
      "(3840, 34, 128)\n",
      "(3840, 2)\n"
     ]
    }
   ],
   "source": [
    "L=cnn_datasets.shape[0]\n",
    "print(type(L))\n",
    "L=int(0.8*L)\n",
    "cnn_train=cnn_datasets[:L,:,:,:]\n",
    "cnn_test=cnn_datasets[L:,:,:,:]\n",
    "lstm_train=lstm_datasets[:L,:,:]\n",
    "lstm_test=lstm_datasets[L:,:,:]\n",
    "labels_train=labels[:L,]\n",
    "labels_test=labels[L:,]\n",
    "print(cnn_train.shape)\n",
    "print(lstm_train.shape)\n",
    "print(labels_train.shape)"
   ]
  },
  {
   "cell_type": "code",
   "execution_count": 25,
   "metadata": {},
   "outputs": [
    {
     "name": "stdout",
     "output_type": "stream",
     "text": [
      "__________________________________________________________________________________________________\n",
      "Layer (type)                    Output Shape         Param #     Connected to                     \n",
      "==================================================================================================\n",
      "cnn_input (InputLayer)          (None, 9, 9, 128)    0                                            \n",
      "__________________________________________________________________________________________________\n",
      "separable_conv2d_2 (SeparableCo (None, 9, 9, 32)     6176        cnn_input[0][0]                  \n",
      "__________________________________________________________________________________________________\n",
      "conv2d_4 (Conv2D)               (None, 9, 9, 64)     32832       separable_conv2d_2[0][0]         \n",
      "__________________________________________________________________________________________________\n",
      "lstm_input (InputLayer)         (None, 34, 128)      0                                            \n",
      "__________________________________________________________________________________________________\n",
      "conv2d_5 (Conv2D)               (None, 9, 9, 128)    131200      conv2d_4[0][0]                   \n",
      "__________________________________________________________________________________________________\n",
      "dense_3 (Dense)                 (None, 34, 1024)     132096      lstm_input[0][0]                 \n",
      "__________________________________________________________________________________________________\n",
      "conv2d_6 (Conv2D)               (None, 9, 9, 13)     1677        conv2d_5[0][0]                   \n",
      "__________________________________________________________________________________________________\n",
      "lstm_3 (LSTM)                   (None, 34, 32)       135296      dense_3[0][0]                    \n",
      "__________________________________________________________________________________________________\n",
      "flatten_2 (Flatten)             (None, 1053)         0           conv2d_6[0][0]                   \n",
      "__________________________________________________________________________________________________\n",
      "lstm_4 (LSTM)                   (None, 32)           8320        lstm_3[0][0]                     \n",
      "__________________________________________________________________________________________________\n",
      "concatenate_2 (Concatenate)     (None, 1085)         0           flatten_2[0][0]                  \n",
      "                                                                 lstm_4[0][0]                     \n",
      "__________________________________________________________________________________________________\n",
      "dense_4 (Dense)                 (None, 2)            2172        concatenate_2[0][0]              \n",
      "==================================================================================================\n",
      "Total params: 449,769\n",
      "Trainable params: 449,769\n",
      "Non-trainable params: 0\n",
      "__________________________________________________________________________________________________\n"
     ]
    }
   ],
   "source": [
    "cnn_input=Input(shape=(9,9,128), name='cnn_input') #cnn_input\n",
    "cnn_1=SeparableConv2D(32,(4,4),strides=(1,1),\n",
    "               activation='elu'\n",
    "               ,padding='SAME'\n",
    "               )(cnn_input)\n",
    "cnn_2=Convolution2D(64,(4,4),strides=(1,1),\n",
    "               activation='elu'\n",
    "               ,padding='SAME'\n",
    "               )(cnn_1)\n",
    "cnn_3=Convolution2D(128,(4,4),strides=(1,1),\n",
    "               activation='elu'\n",
    "               ,padding='SAME'\n",
    "               )(cnn_2)\n",
    "cnn_4=Convolution2D(13,(1,1),strides=(1,1),\n",
    "               activation='elu',padding='SAME'\n",
    "                )(cnn_3)\n",
    "cnn_output=Flatten()(cnn_4)\n",
    "lstm_input=Input(shape=(34,128),name='lstm_input') #lstm_input\n",
    "dense=Dense(1024,input_shape=(34,128))(lstm_input)\n",
    "lstm_1=LSTM(32,input_shape=(32, 1024),return_sequences=True)(dense)\n",
    "lstm_2=LSTM(32)(lstm_1)\n",
    "x = concatenate([cnn_output,lstm_2],axis=-1)\n",
    "#output_2=Flatten()(output_1)\n",
    "output=Dense(2,activation='softmax')(x) #output\n",
    "model = Model(inputs=[cnn_input, lstm_input], outputs=[output])\n",
    "#print(type(model))\n",
    "model.summary()"
   ]
  },
  {
   "cell_type": "code",
   "execution_count": 26,
   "metadata": {},
   "outputs": [],
   "source": [
    "optimizer=optimizers.Adam(lr=0.001, beta_1=0.9, beta_2=0.999, epsilon=None, decay=0.0, amsgrad=False)\n",
    "model.compile(optimizer=optimizer,\n",
    "              loss='binary_crossentropy',\n",
    "              metrics=['accuracy'])"
   ]
  },
  {
   "cell_type": "code",
   "execution_count": 27,
   "metadata": {},
   "outputs": [
    {
     "name": "stdout",
     "output_type": "stream",
     "text": [
      "Train on 3840 samples, validate on 960 samples\n",
      "Epoch 1/5\n",
      "5/5 [==============================] - 101s 20s/step - loss: 0.5899 - acc: 0.6736 - val_loss: 0.4951 - val_acc: 0.7760\n",
      "Epoch 2/5\n",
      "5/5 [==============================] - 99s 20s/step - loss: 0.4243 - acc: 0.8309 - val_loss: 0.3723 - val_acc: 0.8573\n",
      "Epoch 3/5\n",
      "5/5 [==============================] - 99s 20s/step - loss: 0.2967 - acc: 0.8895 - val_loss: 0.2721 - val_acc: 0.8906\n",
      "Epoch 4/5\n",
      "5/5 [==============================] - 97s 19s/step - loss: 0.1989 - acc: 0.9285 - val_loss: 0.2209 - val_acc: 0.9115\n",
      "Epoch 5/5\n",
      "5/5 [==============================] - 96s 19s/step - loss: 0.1320 - acc: 0.9537 - val_loss: 0.1797 - val_acc: 0.9323\n"
     ]
    }
   ],
   "source": [
    "history = model.fit([cnn_train,lstm_train],[labels_train],epochs=5,steps_per_epoch = 5,validation_data=([cnn_test,lstm_test],[labels_test]),\n",
    "                    validation_steps=5\n",
    "                )\n",
    "model.save('my_model.h5')           "
   ]
  },
  {
   "cell_type": "code",
   "execution_count": 1,
   "metadata": {},
   "outputs": [
    {
     "ename": "NameError",
     "evalue": "name 'history' is not defined",
     "output_type": "error",
     "traceback": [
      "\u001b[1;31m---------------------------------------------------------------------------\u001b[0m",
      "\u001b[1;31mNameError\u001b[0m                                 Traceback (most recent call last)",
      "\u001b[1;32m<ipython-input-1-fa6555deaae9>\u001b[0m in \u001b[0;36m<module>\u001b[1;34m()\u001b[0m\n\u001b[0;32m      1\u001b[0m \u001b[1;32mimport\u001b[0m \u001b[0mmatplotlib\u001b[0m\u001b[1;33m.\u001b[0m\u001b[0mpyplot\u001b[0m \u001b[1;32mas\u001b[0m \u001b[0mplt\u001b[0m\u001b[1;33m\u001b[0m\u001b[0m\n\u001b[0;32m      2\u001b[0m \u001b[1;33m\u001b[0m\u001b[0m\n\u001b[1;32m----> 3\u001b[1;33m \u001b[0macc\u001b[0m \u001b[1;33m=\u001b[0m \u001b[0mhistory\u001b[0m\u001b[1;33m.\u001b[0m\u001b[0mhistory\u001b[0m\u001b[1;33m[\u001b[0m\u001b[1;34m'acc'\u001b[0m\u001b[1;33m]\u001b[0m\u001b[1;33m\u001b[0m\u001b[0m\n\u001b[0m\u001b[0;32m      4\u001b[0m \u001b[0mval_acc\u001b[0m \u001b[1;33m=\u001b[0m \u001b[0mhistory\u001b[0m\u001b[1;33m.\u001b[0m\u001b[0mhistory\u001b[0m\u001b[1;33m[\u001b[0m\u001b[1;34m'val_acc'\u001b[0m\u001b[1;33m]\u001b[0m\u001b[1;33m\u001b[0m\u001b[0m\n\u001b[0;32m      5\u001b[0m \u001b[0mloss\u001b[0m \u001b[1;33m=\u001b[0m \u001b[0mhistory\u001b[0m\u001b[1;33m.\u001b[0m\u001b[0mhistory\u001b[0m\u001b[1;33m[\u001b[0m\u001b[1;34m'loss'\u001b[0m\u001b[1;33m]\u001b[0m\u001b[1;33m\u001b[0m\u001b[0m\n",
      "\u001b[1;31mNameError\u001b[0m: name 'history' is not defined"
     ]
    }
   ],
   "source": [
    "import matplotlib.pyplot as plt\n",
    "\n",
    "acc = history.history['acc']\n",
    "val_acc = history.history['val_acc']\n",
    "loss = history.history['loss']\n",
    "val_loss = history.history['val_loss']\n",
    "\n",
    "epochs = range(1, len(acc) + 1)\n",
    "\n",
    "# \"bo\" is for \"blue dot\"\n",
    "plt.plot(epochs, loss, 'bo', label='Training loss')\n",
    "# b is for \"solid blue line\"\n",
    "plt.plot(epochs, val_loss, 'b', label='Validation loss')\n",
    "plt.title('Training and validation loss')\n",
    "plt.xlabel('Epochs')\n",
    "plt.ylabel('Loss')\n",
    "plt.legend()\n",
    "\n",
    "plt.show()"
   ]
  },
  {
   "cell_type": "code",
   "execution_count": 29,
   "metadata": {},
   "outputs": [
    {
     "data": {
      "image/png": "[encoded data removed]",
      "text/plain": [
       "<Figure size 432x288 with 1 Axes>"
      ]
     },
     "metadata": {},
     "output_type": "display_data"
    }
   ],
   "source": [
    "plt.clf()   # clear figure\n",
    "\n",
    "\n",
    "plt.plot(epochs, acc, 'bo', label='Training acc')\n",
    "plt.plot(epochs, val_acc, 'b', label='Validation acc')\n",
    "plt.title('Training and validation accuracy')\n",
    "plt.xlabel('Epochs')\n",
    "plt.ylabel('Accuracy')\n",
    "plt.legend()\n",
    "\n",
    "plt.show()"
   ]
  },
  {
   "cell_type": "code",
   "execution_count": null,
   "metadata": {},
   "outputs": [],
   "source": []
  }
 ],
 "metadata": {
  "kernelspec": {
   "display_name": "Python 3",
   "language": "python",
   "name": "python3"
  },
  "language_info": {
   "codemirror_mode": {
    "name": "ipython",
    "version": 3
   },
   "file_extension": ".py",
   "mimetype": "text/x-python",
   "name": "python",
   "nbconvert_exporter": "python",
   "pygments_lexer": "ipython3",
   "version": "3.6.5"
  }
 },
 "nbformat": 4,
 "nbformat_minor": 2
}
